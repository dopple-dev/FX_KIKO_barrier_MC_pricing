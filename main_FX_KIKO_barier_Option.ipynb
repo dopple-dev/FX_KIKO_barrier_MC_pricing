{
 "cells": [
  {
   "cell_type": "markdown",
   "metadata": {},
   "source": [
    "# FX_KIKO_barrier_MC_pricing"
   ]
  },
  {
   "cell_type": "code",
   "execution_count": 4,
   "metadata": {},
   "outputs": [],
   "source": [
    "# import generic packages required \n",
    "import os\n",
    "import pandas as pd\n",
    "import numpy as np\n",
    "\n",
    "# import classes for Barrier option pricing\n",
    "from FX_barrier.FX_barriers import barrier_price as bp \n",
    "from FX_pricing.FX_Black_Scholes import Black_Scholes as FXBS"
   ]
  },
  {
   "cell_type": "markdown",
   "metadata": {},
   "source": [
    "## Barrier pricing: Monte Carlo"
   ]
  },
  {
   "cell_type": "code",
   "execution_count": 10,
   "metadata": {},
   "outputs": [],
   "source": [
    "cwd_path = os.getcwd()\n",
    "\n",
    "# retrive implied volatility data downoloaded form Bloomberg  \n",
    "interp_iv_par = pd.read_excel('Sample_Data/Interp_Surf_KT_parameters.xlsx')"
   ]
  },
  {
   "cell_type": "code",
   "execution_count": 8,
   "metadata": {},
   "outputs": [],
   "source": [
    "# crate mask to select the specific SABR vol and parameters needed to price a barrier\n",
    "# here we price a barrier with maturity 14 months and strike 1.3759\n",
    "mask = (interp_iv_par['Tenor'] == 420/360) & (interp_iv_par['K'] == 1.3759093540082583)\n",
    "barrier_df = interp_iv_par[mask].reset_index(drop=True)\n",
    "\n",
    "# calculate the forward value \n",
    "barrier_df['F'] = barrier_df['S']*np.exp((barrier_df['rd']- barrier_df['rf'])*barrier_df['Tenor'])\n",
    "barrier_df"
   ]
  },
  {
   "cell_type": "code",
   "execution_count": 10,
   "metadata": {},
   "outputs": [
    {
     "name": "stdout",
     "output_type": "stream",
     "text": [
      "Price C_ui :  0.0008918987741901445\n"
     ]
    }
   ],
   "source": [
    "# define al the imput necessary to price the barriers \n",
    "# barrier level set to 1.5\n",
    "H = 1.5\n",
    "\n",
    "# from the masked dataframe defined above select the corresponding data\n",
    "F0 = barrier_df.loc[0, 'F'] # forward \n",
    "K = barrier_df.loc[0, 'K'] # strike \n",
    "tau = barrier_df.loc[0, 'Tenor'] # maturity \n",
    "rd = barrier_df.loc[0, 'rd'] # domestic risk free rate \n",
    "sigma0 = barrier_df.loc[0, 'IV'] # volatility \n",
    "nu = barrier_df.loc[0, 'gamma'] # SABR nu par\n",
    "beta = 0.999999999999999 # SABR beta par = 1 \n",
    "rho = barrier_df.loc[0, 'rho'] # SABR rho par \n",
    "\n",
    "# define parameters for Monte Carlo simulation  \n",
    "psi_threshold = 0.5 # threshold to decide simulation technique\n",
    "n_MC = 500 # number of montecarlo simulations \n",
    "n_steps = 252 # number of steps for each monte carlo path \n",
    "n_simulation= 1000 # number of simualted paths for each monte carlo simulation\n",
    "barrier_type = 'C_ui' # type of barrier to be priced \n",
    "\n",
    "# price the barrier using barrier_price class (bp)\n",
    "barrier_price = bp.MC_barrier_pricing(barrier_type, H, F0, rd, K, sigma0, nu, beta, rho, psi_threshold, tau, n_MC, n_steps, n_simulation)"
   ]
  },
  {
   "cell_type": "code",
   "execution_count": 11,
   "metadata": {},
   "outputs": [
    {
     "name": "stdout",
     "output_type": "stream",
     "text": [
      "Price C_do :  0.0\n"
     ]
    }
   ],
   "source": [
    "# call down-out \n",
    "barrier_type = 'C_do' \n",
    "barrier_price = bp.MC_barrier_pricing(barrier_type, H, F0, rd, K, sigma0, nu, beta, rho, psi_threshold, tau, n_MC, n_steps, n_simulation)"
   ]
  },
  {
   "cell_type": "code",
   "execution_count": 12,
   "metadata": {},
   "outputs": [
    {
     "name": "stdout",
     "output_type": "stream",
     "text": [
      "Price C_di :  0.0018815453314535528\n"
     ]
    }
   ],
   "source": [
    "# call down-in\n",
    "barrier_type = 'C_di' \n",
    "barrier_price = bp.MC_barrier_pricing(barrier_type, H, F0, rd, K, sigma0, nu, beta, rho, psi_threshold, tau, n_MC, n_steps, n_simulation)"
   ]
  },
  {
   "cell_type": "code",
   "execution_count": 13,
   "metadata": {},
   "outputs": [
    {
     "name": "stdout",
     "output_type": "stream",
     "text": [
      "Price C_uo :  0.0009511807205078864\n"
     ]
    }
   ],
   "source": [
    "# call up-out \n",
    "barrier_type = 'C_uo' \n",
    "barrier_price = bp.MC_barrier_pricing(barrier_type, H, F0, rd, K, sigma0, nu, beta, rho, psi_threshold, tau, n_MC, n_steps, n_simulation)"
   ]
  },
  {
   "cell_type": "code",
   "execution_count": 14,
   "metadata": {},
   "outputs": [
    {
     "name": "stdout",
     "output_type": "stream",
     "text": [
      "Price P_di :  0.4109499768771151\n"
     ]
    }
   ],
   "source": [
    "# call up-in \n",
    "barrier_type = 'P_di' \n",
    "barrier_price = bp.MC_barrier_pricing(barrier_type, H, F0, rd, K, sigma0, nu, beta, rho, psi_threshold, tau, n_MC, n_steps, n_simulation)"
   ]
  },
  {
   "cell_type": "code",
   "execution_count": 15,
   "metadata": {},
   "outputs": [
    {
     "name": "stdout",
     "output_type": "stream",
     "text": [
      "Price P_do :  0.0\n"
     ]
    }
   ],
   "source": [
    "# put down-out \n",
    "barrier_type = 'P_do' \n",
    "barrier_price = bp.MC_barrier_pricing(barrier_type, H, F0, rd, K, sigma0, nu, beta, rho, psi_threshold, tau, n_MC, n_steps, n_simulation)"
   ]
  },
  {
   "cell_type": "code",
   "execution_count": 17,
   "metadata": {},
   "outputs": [
    {
     "name": "stdout",
     "output_type": "stream",
     "text": [
      "Price P_ui :  0.030121383835812695\n"
     ]
    }
   ],
   "source": [
    "# put down-in \n",
    "barrier_type = 'P_ui' \n",
    "barrier_price = bp.MC_barrier_pricing(barrier_type, H, F0, rd, K, sigma0, nu, beta, rho, psi_threshold, tau, n_MC, n_steps, n_simulation)"
   ]
  },
  {
   "cell_type": "code",
   "execution_count": 18,
   "metadata": {},
   "outputs": [
    {
     "name": "stdout",
     "output_type": "stream",
     "text": [
      "Price P_uo :  0.3817373620551142\n"
     ]
    }
   ],
   "source": [
    "# put up-in \n",
    "barrier_type = 'P_uo' \n",
    "barrier_price = bp.MC_barrier_pricing(barrier_type, H, F0, rd, K, sigma0, nu, beta, rho, psi_threshold, tau, n_MC, n_steps, n_simulation)"
   ]
  },
  {
   "cell_type": "code",
   "execution_count": 21,
   "metadata": {},
   "outputs": [
    {
     "data": {
      "text/plain": [
       "0.04801188474618162"
      ]
     },
     "execution_count": 21,
     "metadata": {},
     "output_type": "execute_result"
    }
   ],
   "source": [
    "# vanilla call \n",
    "S0 = barrier_df.loc[0, 'S']\n",
    "rf = barrier_df.loc[0, 'rf']\n",
    "FXBS.BS_pricer(1, S0, K, tau, sigma0, rd, rf)"
   ]
  },
  {
   "cell_type": "code",
   "execution_count": 22,
   "metadata": {},
   "outputs": [
    {
     "data": {
      "text/plain": [
       "0.10618513749297254"
      ]
     },
     "execution_count": 22,
     "metadata": {},
     "output_type": "execute_result"
    }
   ],
   "source": [
    "# vanilla put\n",
    "FXBS.BS_pricer(-1, S0, K, tau, sigma0, rd, rf)"
   ]
  }
 ],
 "metadata": {
  "kernelspec": {
   "display_name": ".venv",
   "language": "python",
   "name": "python3"
  },
  "language_info": {
   "codemirror_mode": {
    "name": "ipython",
    "version": 3
   },
   "file_extension": ".py",
   "mimetype": "text/x-python",
   "name": "python",
   "nbconvert_exporter": "python",
   "pygments_lexer": "ipython3",
   "version": "3.12.0"
  }
 },
 "nbformat": 4,
 "nbformat_minor": 2
}
